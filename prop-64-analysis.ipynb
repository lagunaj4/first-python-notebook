{
 "cells": [
  {
   "cell_type": "markdown",
   "metadata": {},
   "source": [
    "# Proposition 64 Analysis - Marijuana Legalization in California"
   ]
  },
  {
   "cell_type": "markdown",
   "metadata": {},
   "source": [
    "The objective of this document is to analyze spending by committees and individuals toward ballot initiative 64 during the 2016 general election in the state of California. Ballot initiative 64 asked if marijuana should be legalized for recreational use in the state. "
   ]
  },
  {
   "cell_type": "code",
   "execution_count": 26,
   "metadata": {},
   "outputs": [],
   "source": [
    "import pandas as pd\n",
    "%matplotlib inline"
   ]
  },
  {
   "cell_type": "markdown",
   "metadata": {},
   "source": [
    "At first we read in the list of proposition and committees from the csv. We then we read in the list of contributions from individuals toward committees supporting or opposing ballot measures."
   ]
  },
  {
   "cell_type": "code",
   "execution_count": 27,
   "metadata": {},
   "outputs": [],
   "source": [
    "props = pd.read_csv(\"https://first-python-notebook.readthedocs.io/_static/committees.csv\")"
   ]
  },
  {
   "cell_type": "code",
   "execution_count": 28,
   "metadata": {},
   "outputs": [],
   "source": [
    "contribs = pd.read_csv(\"https://first-python-notebook.readthedocs.io/_static/contributions.csv\")"
   ]
  },
  {
   "cell_type": "markdown",
   "metadata": {},
   "source": [
    "Here we are isolating proposition 64 from the dataset."
   ]
  },
  {
   "cell_type": "code",
   "execution_count": 29,
   "metadata": {},
   "outputs": [],
   "source": [
    "prop = props[props.prop_name == 'PROPOSITION 064- MARIJUANA LEGALIZATION. INITIATIVE STATUTE.']"
   ]
  },
  {
   "cell_type": "markdown",
   "metadata": {},
   "source": [
    "The aim here is to create a single table that merges data from the props and contribs table. The result is a table that shows to which committees individual donors contributed to and how much that contribution was."
   ]
  },
  {
   "cell_type": "code",
   "execution_count": 30,
   "metadata": {},
   "outputs": [],
   "source": [
    "merged = pd.merge(prop, contribs, on=\"calaccess_committee_id\")"
   ]
  },
  {
   "cell_type": "markdown",
   "metadata": {},
   "source": [
    "Here we isolate persons who are in support of the proposition."
   ]
  },
  {
   "cell_type": "code",
   "execution_count": 31,
   "metadata": {},
   "outputs": [],
   "source": [
    "support = merged[merged.committee_position == 'SUPPORT']"
   ]
  },
  {
   "cell_type": "markdown",
   "metadata": {},
   "source": [
    "The table below shows the top five contributors toward committees in support of the proposition."
   ]
  },
  {
   "cell_type": "code",
   "execution_count": 32,
   "metadata": {},
   "outputs": [
    {
     "data": {
      "text/html": [
       "<div>\n",
       "<style scoped>\n",
       "    .dataframe tbody tr th:only-of-type {\n",
       "        vertical-align: middle;\n",
       "    }\n",
       "\n",
       "    .dataframe tbody tr th {\n",
       "        vertical-align: top;\n",
       "    }\n",
       "\n",
       "    .dataframe thead th {\n",
       "        text-align: right;\n",
       "    }\n",
       "</style>\n",
       "<table border=\"1\" class=\"dataframe\">\n",
       "  <thead>\n",
       "    <tr style=\"text-align: right;\">\n",
       "      <th></th>\n",
       "      <th>contributor_firstname</th>\n",
       "      <th>contributor_lastname</th>\n",
       "      <th>amount</th>\n",
       "      <th>contributor_fullname</th>\n",
       "    </tr>\n",
       "  </thead>\n",
       "  <tbody>\n",
       "    <tr>\n",
       "      <th>444</th>\n",
       "      <td>SEAN</td>\n",
       "      <td>PARKER AND AFFILIATED ENTITIES</td>\n",
       "      <td>7250000.0</td>\n",
       "      <td>SEAN PARKER AND AFFILIATED ENTITIES</td>\n",
       "    </tr>\n",
       "    <tr>\n",
       "      <th>443</th>\n",
       "      <td>SEAN</td>\n",
       "      <td>PARKER</td>\n",
       "      <td>1500000.0</td>\n",
       "      <td>SEAN PARKER</td>\n",
       "    </tr>\n",
       "    <tr>\n",
       "      <th>102</th>\n",
       "      <td>DANIEL</td>\n",
       "      <td>LEWIS</td>\n",
       "      <td>1250000.0</td>\n",
       "      <td>DANIEL LEWIS</td>\n",
       "    </tr>\n",
       "    <tr>\n",
       "      <th>180</th>\n",
       "      <td>HENRY</td>\n",
       "      <td>VAN AMERINGEN</td>\n",
       "      <td>1000000.0</td>\n",
       "      <td>HENRY VAN AMERINGEN</td>\n",
       "    </tr>\n",
       "    <tr>\n",
       "      <th>374</th>\n",
       "      <td>NICHOLAS</td>\n",
       "      <td>PRITZKER</td>\n",
       "      <td>900000.0</td>\n",
       "      <td>NICHOLAS PRITZKER</td>\n",
       "    </tr>\n",
       "  </tbody>\n",
       "</table>\n",
       "</div>"
      ],
      "text/plain": [
       "    contributor_firstname            contributor_lastname     amount  \\\n",
       "444                  SEAN  PARKER AND AFFILIATED ENTITIES  7250000.0   \n",
       "443                  SEAN                          PARKER  1500000.0   \n",
       "102                DANIEL                           LEWIS  1250000.0   \n",
       "180                 HENRY                   VAN AMERINGEN  1000000.0   \n",
       "374              NICHOLAS                        PRITZKER   900000.0   \n",
       "\n",
       "                    contributor_fullname  \n",
       "444  SEAN PARKER AND AFFILIATED ENTITIES  \n",
       "443                          SEAN PARKER  \n",
       "102                         DANIEL LEWIS  \n",
       "180                  HENRY VAN AMERINGEN  \n",
       "374                    NICHOLAS PRITZKER  "
      ]
     },
     "execution_count": 32,
     "metadata": {},
     "output_type": "execute_result"
    }
   ],
   "source": [
    "top_supporters = support.groupby([\"contributor_firstname\", \"contributor_lastname\"]).amount.sum().reset_index().sort_values(\"amount\", ascending=False)\n",
    "top_supporters['contributor_fullname'] = top_supporters.contributor_firstname + \" \" + top_supporters.contributor_lastname\n",
    "top_supporters.head()"
   ]
  },
  {
   "cell_type": "markdown",
   "metadata": {},
   "source": [
    "Here we create a bar chart showing the top five contributors in favor of the proposition"
   ]
  },
  {
   "cell_type": "code",
   "execution_count": 33,
   "metadata": {},
   "outputs": [
    {
     "data": {
      "text/plain": [
       "[Text(0, 0, 'SEAN PARKER AND AFFILIATED ENTITIES'),\n",
       " Text(0, 0, 'SEAN PARKER'),\n",
       " Text(0, 0, 'DANIEL LEWIS'),\n",
       " Text(0, 0, 'HENRY VAN AMERINGEN'),\n",
       " Text(0, 0, 'NICHOLAS PRITZKER')]"
      ]
     },
     "execution_count": 33,
     "metadata": {},
     "output_type": "execute_result"
    },
    {
     "data": {
      "image/png": "[encoded data removed]",
      "text/plain": [
       "<Figure size 432x288 with 1 Axes>"
      ]
     },
     "metadata": {
      "needs_background": "light"
     },
     "output_type": "display_data"
    }
   ],
   "source": [
    "chart = top_supporters.head(5).amount.plot.barh()\n",
    "chart.set_yticklabels(top_supporters.contributor_fullname)"
   ]
  }
 ],
 "metadata": {
  "kernelspec": {
   "display_name": "Python3",
   "language": "python",
   "name": "envname"
  },
  "language_info": {
   "codemirror_mode": {
    "name": "ipython",
    "version": 3
   },
   "file_extension": ".py",
   "mimetype": "text/x-python",
   "name": "python",
   "nbconvert_exporter": "python",
   "pygments_lexer": "ipython3",
   "version": "3.7.2"
  }
 },
 "nbformat": 4,
 "nbformat_minor": 2
}
